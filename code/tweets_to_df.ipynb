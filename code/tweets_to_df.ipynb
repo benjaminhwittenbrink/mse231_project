{
 "cells": [
  {
   "cell_type": "code",
   "execution_count": 1,
   "metadata": {},
   "outputs": [],
   "source": [
    "import json\n",
    "import pandas as pd\n",
    "import os\n",
    "import pickle\n",
    "import numpy as np"
   ]
  },
  {
   "cell_type": "code",
   "execution_count": 2,
   "metadata": {},
   "outputs": [],
   "source": [
    "with open('data/score_mappings.json', 'r') as f:\n",
    "    score_mappings = json.load(f)"
   ]
  },
  {
   "cell_type": "code",
   "execution_count": 3,
   "metadata": {},
   "outputs": [],
   "source": [
    "with open('data/accounts.pkl', 'rb') as f:\n",
    "    accounts = pickle.load(f)"
   ]
  },
  {
   "cell_type": "code",
   "execution_count": 4,
   "metadata": {},
   "outputs": [],
   "source": [
    "for account in accounts:\n",
    "    if len(account) < 3:\n",
    "        account = (*account, \"did not pull\") \n",
    "        # original accounts lists did not have name field, \n",
    "        # so we only observe name field when it was pulled \n",
    "        # in a follower list (unfollowed politicians don't \n",
    "        # have a name field)\n",
    "\n",
    "accounts_dict = {}\n",
    "for account in accounts:\n",
    "    accounts_dict[account[1]] = account"
   ]
  },
  {
   "cell_type": "code",
   "execution_count": 10,
   "metadata": {},
   "outputs": [
    {
     "ename": "ValueError",
     "evalue": "If using all scalar values, you must pass an index",
     "output_type": "error",
     "traceback": [
      "\u001b[0;31m---------------------------------------------------------------------------\u001b[0m",
      "\u001b[0;31mValueError\u001b[0m                                Traceback (most recent call last)",
      "Cell \u001b[0;32mIn [10], line 29\u001b[0m\n\u001b[1;32m     26\u001b[0m     tweets_list \u001b[39m=\u001b[39m pickle\u001b[39m.\u001b[39mload(f)\n\u001b[1;32m     28\u001b[0m \u001b[39mfor\u001b[39;00m tweet \u001b[39min\u001b[39;00m tweets_list:\n\u001b[0;32m---> 29\u001b[0m     row \u001b[39m=\u001b[39m pd\u001b[39m.\u001b[39;49mDataFrame({\u001b[39m'\u001b[39;49m\u001b[39mtweet_id\u001b[39;49m\u001b[39m'\u001b[39;49m : tweet[\u001b[39m\"\u001b[39;49m\u001b[39mid\u001b[39;49m\u001b[39m\"\u001b[39;49m], \n\u001b[1;32m     30\u001b[0m     \u001b[39m'\u001b[39;49m\u001b[39maccount_id\u001b[39;49m\u001b[39m'\u001b[39;49m : account_id, \n\u001b[1;32m     31\u001b[0m     \u001b[39m'\u001b[39;49m\u001b[39musername\u001b[39;49m\u001b[39m'\u001b[39;49m : accounts_dict[account_id][\u001b[39m0\u001b[39;49m], \n\u001b[1;32m     32\u001b[0m     \u001b[39m'\u001b[39;49m\u001b[39mname\u001b[39;49m\u001b[39m'\u001b[39;49m : accounts_dict[account_id][\u001b[39m2\u001b[39;49m],\n\u001b[1;32m     33\u001b[0m     \u001b[39m'\u001b[39;49m\u001b[39mscore\u001b[39;49m\u001b[39m'\u001b[39;49m : score, \n\u001b[1;32m     34\u001b[0m     \u001b[39m'\u001b[39;49m\u001b[39mquantile\u001b[39;49m\u001b[39m'\u001b[39;49m : quantile,\n\u001b[1;32m     35\u001b[0m     \u001b[39m'\u001b[39;49m\u001b[39mideology_label\u001b[39;49m\u001b[39m'\u001b[39;49m : ideology, \n\u001b[1;32m     36\u001b[0m     \u001b[39m'\u001b[39;49m\u001b[39mtext\u001b[39;49m\u001b[39m'\u001b[39;49m : tweet[\u001b[39m\"\u001b[39;49m\u001b[39mtext\u001b[39;49m\u001b[39m\"\u001b[39;49m], \n\u001b[1;32m     37\u001b[0m     \u001b[39m'\u001b[39;49m\u001b[39mretweet_count\u001b[39;49m\u001b[39m'\u001b[39;49m : tweet[\u001b[39m\"\u001b[39;49m\u001b[39mpublic_metrics\u001b[39;49m\u001b[39m\"\u001b[39;49m][\u001b[39m\"\u001b[39;49m\u001b[39mretweet_count\u001b[39;49m\u001b[39m\"\u001b[39;49m], \n\u001b[1;32m     38\u001b[0m     \u001b[39m'\u001b[39;49m\u001b[39mreply_count\u001b[39;49m\u001b[39m'\u001b[39;49m : tweet[\u001b[39m\"\u001b[39;49m\u001b[39mpublic_metrics\u001b[39;49m\u001b[39m\"\u001b[39;49m][\u001b[39m\"\u001b[39;49m\u001b[39mreply_count\u001b[39;49m\u001b[39m\"\u001b[39;49m], \n\u001b[1;32m     39\u001b[0m     \u001b[39m'\u001b[39;49m\u001b[39mlike_count\u001b[39;49m\u001b[39m'\u001b[39;49m : tweet[\u001b[39m\"\u001b[39;49m\u001b[39mpublic_metrics\u001b[39;49m\u001b[39m\"\u001b[39;49m][\u001b[39m\"\u001b[39;49m\u001b[39mlike_count\u001b[39;49m\u001b[39m\"\u001b[39;49m], \n\u001b[1;32m     40\u001b[0m     \u001b[39m'\u001b[39;49m\u001b[39mquote_count\u001b[39;49m\u001b[39m'\u001b[39;49m : tweet[\u001b[39m\"\u001b[39;49m\u001b[39mpublic_metrics\u001b[39;49m\u001b[39m\"\u001b[39;49m][\u001b[39m\"\u001b[39;49m\u001b[39mquote_count\u001b[39;49m\u001b[39m\"\u001b[39;49m], \n\u001b[1;32m     41\u001b[0m     \u001b[39m'\u001b[39;49m\u001b[39mlang\u001b[39;49m\u001b[39m'\u001b[39;49m : tweet[\u001b[39m\"\u001b[39;49m\u001b[39mlang\u001b[39;49m\u001b[39m\"\u001b[39;49m], \n\u001b[1;32m     42\u001b[0m     \u001b[39m'\u001b[39;49m\u001b[39mcreated_at\u001b[39;49m\u001b[39m'\u001b[39;49m : tweet[\u001b[39m\"\u001b[39;49m\u001b[39mcreated_at\u001b[39;49m\u001b[39m\"\u001b[39;49m]})\n\u001b[1;32m     43\u001b[0m     \u001b[39mprint\u001b[39m(row)\n\u001b[1;32m     44\u001b[0m     df \u001b[39m=\u001b[39m pd\u001b[39m.\u001b[39mconcat([df, row])\u001b[39m.\u001b[39mreset_index(drop\u001b[39m=\u001b[39m\u001b[39mTrue\u001b[39;00m)\n",
      "File \u001b[0;32m/Library/Frameworks/Python.framework/Versions/3.10/lib/python3.10/site-packages/pandas/core/frame.py:663\u001b[0m, in \u001b[0;36mDataFrame.__init__\u001b[0;34m(self, data, index, columns, dtype, copy)\u001b[0m\n\u001b[1;32m    657\u001b[0m     mgr \u001b[39m=\u001b[39m \u001b[39mself\u001b[39m\u001b[39m.\u001b[39m_init_mgr(\n\u001b[1;32m    658\u001b[0m         data, axes\u001b[39m=\u001b[39m{\u001b[39m\"\u001b[39m\u001b[39mindex\u001b[39m\u001b[39m\"\u001b[39m: index, \u001b[39m\"\u001b[39m\u001b[39mcolumns\u001b[39m\u001b[39m\"\u001b[39m: columns}, dtype\u001b[39m=\u001b[39mdtype, copy\u001b[39m=\u001b[39mcopy\n\u001b[1;32m    659\u001b[0m     )\n\u001b[1;32m    661\u001b[0m \u001b[39melif\u001b[39;00m \u001b[39misinstance\u001b[39m(data, \u001b[39mdict\u001b[39m):\n\u001b[1;32m    662\u001b[0m     \u001b[39m# GH#38939 de facto copy defaults to False only in non-dict cases\u001b[39;00m\n\u001b[0;32m--> 663\u001b[0m     mgr \u001b[39m=\u001b[39m dict_to_mgr(data, index, columns, dtype\u001b[39m=\u001b[39;49mdtype, copy\u001b[39m=\u001b[39;49mcopy, typ\u001b[39m=\u001b[39;49mmanager)\n\u001b[1;32m    664\u001b[0m \u001b[39melif\u001b[39;00m \u001b[39misinstance\u001b[39m(data, ma\u001b[39m.\u001b[39mMaskedArray):\n\u001b[1;32m    665\u001b[0m     \u001b[39mimport\u001b[39;00m \u001b[39mnumpy\u001b[39;00m\u001b[39m.\u001b[39;00m\u001b[39mma\u001b[39;00m\u001b[39m.\u001b[39;00m\u001b[39mmrecords\u001b[39;00m \u001b[39mas\u001b[39;00m \u001b[39mmrecords\u001b[39;00m\n",
      "File \u001b[0;32m/Library/Frameworks/Python.framework/Versions/3.10/lib/python3.10/site-packages/pandas/core/internals/construction.py:494\u001b[0m, in \u001b[0;36mdict_to_mgr\u001b[0;34m(data, index, columns, dtype, typ, copy)\u001b[0m\n\u001b[1;32m    490\u001b[0m     \u001b[39melse\u001b[39;00m:\n\u001b[1;32m    491\u001b[0m         \u001b[39m# dtype check to exclude e.g. range objects, scalars\u001b[39;00m\n\u001b[1;32m    492\u001b[0m         arrays \u001b[39m=\u001b[39m [x\u001b[39m.\u001b[39mcopy() \u001b[39mif\u001b[39;00m \u001b[39mhasattr\u001b[39m(x, \u001b[39m\"\u001b[39m\u001b[39mdtype\u001b[39m\u001b[39m\"\u001b[39m) \u001b[39melse\u001b[39;00m x \u001b[39mfor\u001b[39;00m x \u001b[39min\u001b[39;00m arrays]\n\u001b[0;32m--> 494\u001b[0m \u001b[39mreturn\u001b[39;00m arrays_to_mgr(arrays, columns, index, dtype\u001b[39m=\u001b[39;49mdtype, typ\u001b[39m=\u001b[39;49mtyp, consolidate\u001b[39m=\u001b[39;49mcopy)\n",
      "File \u001b[0;32m/Library/Frameworks/Python.framework/Versions/3.10/lib/python3.10/site-packages/pandas/core/internals/construction.py:119\u001b[0m, in \u001b[0;36marrays_to_mgr\u001b[0;34m(arrays, columns, index, dtype, verify_integrity, typ, consolidate)\u001b[0m\n\u001b[1;32m    116\u001b[0m \u001b[39mif\u001b[39;00m verify_integrity:\n\u001b[1;32m    117\u001b[0m     \u001b[39m# figure out the index, if necessary\u001b[39;00m\n\u001b[1;32m    118\u001b[0m     \u001b[39mif\u001b[39;00m index \u001b[39mis\u001b[39;00m \u001b[39mNone\u001b[39;00m:\n\u001b[0;32m--> 119\u001b[0m         index \u001b[39m=\u001b[39m _extract_index(arrays)\n\u001b[1;32m    120\u001b[0m     \u001b[39melse\u001b[39;00m:\n\u001b[1;32m    121\u001b[0m         index \u001b[39m=\u001b[39m ensure_index(index)\n",
      "File \u001b[0;32m/Library/Frameworks/Python.framework/Versions/3.10/lib/python3.10/site-packages/pandas/core/internals/construction.py:657\u001b[0m, in \u001b[0;36m_extract_index\u001b[0;34m(data)\u001b[0m\n\u001b[1;32m    654\u001b[0m         \u001b[39mraise\u001b[39;00m \u001b[39mValueError\u001b[39;00m(\u001b[39m\"\u001b[39m\u001b[39mPer-column arrays must each be 1-dimensional\u001b[39m\u001b[39m\"\u001b[39m)\n\u001b[1;32m    656\u001b[0m \u001b[39mif\u001b[39;00m \u001b[39mnot\u001b[39;00m indexes \u001b[39mand\u001b[39;00m \u001b[39mnot\u001b[39;00m raw_lengths:\n\u001b[0;32m--> 657\u001b[0m     \u001b[39mraise\u001b[39;00m \u001b[39mValueError\u001b[39;00m(\u001b[39m\"\u001b[39m\u001b[39mIf using all scalar values, you must pass an index\u001b[39m\u001b[39m\"\u001b[39m)\n\u001b[1;32m    659\u001b[0m \u001b[39melif\u001b[39;00m have_series:\n\u001b[1;32m    660\u001b[0m     index \u001b[39m=\u001b[39m union_indexes(indexes)\n",
      "\u001b[0;31mValueError\u001b[0m: If using all scalar values, you must pass an index"
     ]
    }
   ],
   "source": [
    "tweet_samples = [\"new_tweets\", \"old_tweets\"]\n",
    "for sample in tweet_samples:\n",
    "    path = \"data/\" + sample\n",
    "    files = os.listdir(path)\n",
    "    for file in files:\n",
    "        account_id = file.removesuffix(\"_tweets.pkl\")\n",
    "\n",
    "        completed = os.listdir(\"data/\" + sample + \"_dfs\")\n",
    "        if np.any([str(account_id) in f for f in completed]):\n",
    "            continue # we have already pulled this user's tweets\n",
    "\n",
    "        if account_id not in score_mappings.keys():\n",
    "            continue # skip accounts without ideology score\n",
    "\n",
    "        df = pd.DataFrame(columns = ['tweet_id', \n",
    "        'account_id', 'username', 'name', 'score', 'quantile', 'ideology_label', \n",
    "        'text', 'retweet_count', 'reply_count', 'like_count', \n",
    "        'quote_count', 'lang', 'created_at'])\n",
    "\n",
    "        score = score_mappings[account_id][\"score\"]\n",
    "        quantile = score_mappings[account_id][\"quantile\"]\n",
    "        ideology = \"conservative\" if quantile > 4 else \"liberal\" if quantile < 4 else \"neutral\" \n",
    "        \n",
    "\n",
    "        with open(path + \"/\" + file, \"rb\") as f:\n",
    "            tweets_list = pickle.load(f)\n",
    "        \n",
    "        for tweet in tweets_list:\n",
    "            row = pd.DataFrame({'tweet_id' : tweet[\"id\"], \n",
    "            'account_id' : account_id, \n",
    "            'username' : accounts_dict[account_id][0], \n",
    "            'name' : accounts_dict[account_id][2],\n",
    "            'score' : score, \n",
    "            'quantile' : quantile,\n",
    "            'ideology_label' : ideology, \n",
    "            'text' : tweet[\"text\"], \n",
    "            'retweet_count' : tweet[\"public_metrics\"][\"retweet_count\"], \n",
    "            'reply_count' : tweet[\"public_metrics\"][\"reply_count\"], \n",
    "            'like_count' : tweet[\"public_metrics\"][\"like_count\"], \n",
    "            'quote_count' : tweet[\"public_metrics\"][\"quote_count\"], \n",
    "            'lang' : tweet[\"lang\"], \n",
    "            'created_at' : tweet[\"created_at\"]}, index=[0])\n",
    "            print(row)\n",
    "            df = pd.concat([df, row]).reset_index(drop=True)\n",
    "            print(df)\n",
    "        \n",
    "        with open(\"data/\" + sample + \"_dfs/\" + account_id + \"_df.pkl\", 'wb') as f:\n",
    "            pickle.dump(df, f)\n",
    "\n"
   ]
  }
 ],
 "metadata": {
  "kernelspec": {
   "display_name": "Python 3.10.8 64-bit",
   "language": "python",
   "name": "python3"
  },
  "language_info": {
   "codemirror_mode": {
    "name": "ipython",
    "version": 3
   },
   "file_extension": ".py",
   "mimetype": "text/x-python",
   "name": "python",
   "nbconvert_exporter": "python",
   "pygments_lexer": "ipython3",
   "version": "3.10.8"
  },
  "orig_nbformat": 4,
  "vscode": {
   "interpreter": {
    "hash": "aee8b7b246df8f9039afb4144a1f6fd8d2ca17a180786b69acc140d282b71a49"
   }
  }
 },
 "nbformat": 4,
 "nbformat_minor": 2
}
