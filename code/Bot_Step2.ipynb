{
 "cells": [
  {
   "cell_type": "markdown",
   "id": "89a220e0",
   "metadata": {},
   "source": [
    "# Bot Step 2"
   ]
  },
  {
   "cell_type": "markdown",
   "id": "43d13191",
   "metadata": {},
   "source": [
    "### Import packages"
   ]
  },
  {
   "cell_type": "code",
   "execution_count": 1,
   "id": "4f521a59",
   "metadata": {},
   "outputs": [],
   "source": [
    "import json\n",
    "import matplotlib.pyplot as plt\n",
    "import networkx\n",
    "import numpy as np\n",
    "import pandas as pd\n",
    "import pickle\n",
    "import prince\n",
    "import os"
   ]
  },
  {
   "cell_type": "markdown",
   "id": "52965e47",
   "metadata": {},
   "source": [
    "## Load in data"
   ]
  },
  {
   "cell_type": "markdown",
   "id": "f9e16b7c",
   "metadata": {},
   "source": [
    "### All distinct accounts"
   ]
  },
  {
   "cell_type": "code",
   "execution_count": 2,
   "id": "74b514e0",
   "metadata": {},
   "outputs": [],
   "source": [
    "def read_author_data():\n",
    "    \"\"\" Function that reads the 'accounts.pkl' file and prints some descriptive stats.\n",
    "    \"\"\"\n",
    "    with open('accounts.pkl', 'rb') as f:\n",
    "        author_data = pickle.load(f)\n",
    "    \n",
    "    print('We have {} accounts, for which we have user name, id, and screen name.'.format(len(author_data)))\n",
    "    print('Example: {}'.format(author_data[0]))\n",
    "    \n",
    "    return author_data"
   ]
  },
  {
   "cell_type": "code",
   "execution_count": 3,
   "id": "37e0e3a6",
   "metadata": {},
   "outputs": [
    {
     "name": "stdout",
     "output_type": "stream",
     "text": [
      "We have 5876 accounts, for which we have user name, id, and screen name.\n",
      "Example: ('RepFredUpton', '124224165', 'Rep. Fred Upton')\n"
     ]
    }
   ],
   "source": [
    "author_data = read_author_data()"
   ]
  },
  {
   "cell_type": "markdown",
   "id": "596ccdea",
   "metadata": {},
   "source": [
    "### Followers for (a selection of) these accounts"
   ]
  },
  {
   "cell_type": "code",
   "execution_count": 4,
   "id": "21b0e2ec",
   "metadata": {},
   "outputs": [],
   "source": [
    "def read_account_data():\n",
    "    \"\"\" Function that reads in the account data and returns this data in a dictionary.\n",
    "    \"\"\"\n",
    "    account_data = dict()\n",
    "    os.chdir(os.getcwd() + '\\\\following_lists')\n",
    "    \n",
    "    for filename in os.listdir(os.getcwd()):\n",
    "        id = filename.split('_')[0]\n",
    "        with open(filename, 'rb') as f:\n",
    "            account_data[id] = pickle.load(f)\n",
    "\n",
    "    os.chdir('..')\n",
    "    \n",
    "    return account_data"
   ]
  },
  {
   "cell_type": "code",
   "execution_count": 5,
   "id": "847b838b",
   "metadata": {},
   "outputs": [],
   "source": [
    "account_data = read_account_data()"
   ]
  },
  {
   "cell_type": "markdown",
   "id": "c331db30",
   "metadata": {},
   "source": [
    "## Create Adjacency Matrix"
   ]
  },
  {
   "cell_type": "code",
   "execution_count": 6,
   "id": "ada41efd",
   "metadata": {},
   "outputs": [],
   "source": [
    "def create_adjacency_matrix(type='undirected'):\n",
    "    \"\"\" Function that creates an adjacency matrix with the respective type.\n",
    "    \"\"\"\n",
    "    adj_df = pd.DataFrame(0, index=[author_data[i][1] for i in range(len(author_data))],\n",
    "                      columns=[author_data[i][1] for i in range(len(author_data))])\n",
    "    col_set = {author_data[i][1] for i in range(len(author_data))}\n",
    "    \n",
    "    i = 0\n",
    "    for key in account_data.keys():\n",
    "        fol_list = list(account_data[key])\n",
    "        fol_set = {fol_list[i][1] for i in range(len(fol_list))}\n",
    "        for id_ in fol_set:\n",
    "            if id_ in col_set:\n",
    "                adj_df[id_].loc[key] = 1\n",
    "                if (type=='undirected'):\n",
    "                    adj_df[key].loc[id_] = 1\n",
    "\n",
    "        i += 1\n",
    "        if (i % 100 == 0):\n",
    "            print(i)\n",
    "    \n",
    "    return adj_df"
   ]
  },
  {
   "cell_type": "code",
   "execution_count": 7,
   "id": "4eed39bb",
   "metadata": {
    "collapsed": true
   },
   "outputs": [
    {
     "name": "stdout",
     "output_type": "stream",
     "text": [
      "100\n",
      "200\n",
      "300\n",
      "400\n",
      "500\n",
      "600\n",
      "700\n",
      "800\n",
      "900\n",
      "1000\n",
      "1100\n",
      "1200\n",
      "1300\n",
      "1400\n",
      "1500\n",
      "1600\n",
      "1700\n",
      "1800\n",
      "1900\n",
      "2000\n",
      "2100\n",
      "2200\n",
      "2300\n",
      "2400\n",
      "2500\n",
      "2600\n",
      "2700\n",
      "2800\n",
      "2900\n",
      "3000\n",
      "3100\n",
      "3200\n",
      "3300\n",
      "3400\n",
      "3500\n",
      "3600\n",
      "3700\n",
      "3800\n",
      "3900\n",
      "4000\n",
      "4100\n",
      "4200\n",
      "4300\n",
      "4400\n",
      "4500\n",
      "4600\n",
      "4700\n",
      "4800\n",
      "4900\n",
      "5000\n"
     ]
    }
   ],
   "source": [
    "adj_df = create_adjacency_matrix(type='undirected')"
   ]
  },
  {
   "cell_type": "markdown",
   "id": "139fe9fa",
   "metadata": {},
   "source": [
    "## Check whether we have zero columns and/or rows"
   ]
  },
  {
   "cell_type": "code",
   "execution_count": 8,
   "id": "ea6b77ad",
   "metadata": {},
   "outputs": [],
   "source": [
    "def remove_null(adj_df):\n",
    "    \"\"\" Function that removes null rows/columns from the adjacency matrix. These\n",
    "        nulls correspond with authors that do not follow anyone and are not followed\n",
    "        by anyone of interest.\n",
    "    \"\"\"\n",
    "    zero_follower = 0\n",
    "    drop_idx_list = []\n",
    "    for i in range(len(adj_df)):\n",
    "        if np.sum(adj_df.iloc[i,:]) == 0:\n",
    "            zero_follower += 1\n",
    "            drop_idx_list.append(adj_df.columns[i])\n",
    "    \n",
    "    print('The number of entries we delete is {}.'.format(zero_follower))\n",
    "    adj_df_nz = adj_df.copy()\n",
    "    adj_df_nz = adj_df_nz.drop(drop_idx_list, axis=0)\n",
    "    adj_df_nz = adj_df_nz.drop(drop_idx_list, axis=1)\n",
    "    \n",
    "    return adj_df_nz"
   ]
  },
  {
   "cell_type": "code",
   "execution_count": 9,
   "id": "41452dd4",
   "metadata": {},
   "outputs": [
    {
     "name": "stdout",
     "output_type": "stream",
     "text": [
      "The number of entries we delete is 76.\n"
     ]
    }
   ],
   "source": [
    "adj_df_nz = remove_null(adj_df)"
   ]
  },
  {
   "cell_type": "code",
   "execution_count": 10,
   "id": "6e392cc2",
   "metadata": {},
   "outputs": [],
   "source": [
    "def write_to_file(filename, adj_df_nz):\n",
    "    \"\"\" Write the adjacency matrix dataframe to a csv file.\n",
    "    \"\"\"\n",
    "    adj_df_nz.to_csv(filename)\n",
    "    return"
   ]
  },
  {
   "cell_type": "code",
   "execution_count": 11,
   "id": "874c0e4b",
   "metadata": {},
   "outputs": [],
   "source": [
    "write_to_file('adj_matrix.csv', adj_df_nz)"
   ]
  },
  {
   "cell_type": "markdown",
   "id": "cf5735f5",
   "metadata": {},
   "source": [
    "All columns that are purely 0 have corresponding rows that are 0 too. I.e., if someone was not followed by anyone in our data, this person did not follow anyone either. "
   ]
  },
  {
   "cell_type": "markdown",
   "id": "4d19aef3",
   "metadata": {},
   "source": [
    "## Correspondence Analysis"
   ]
  },
  {
   "cell_type": "code",
   "execution_count": 12,
   "id": "b3d796fe",
   "metadata": {},
   "outputs": [],
   "source": [
    "def corresp_analysis(filename = '0'):\n",
    "    df = pd.read_csv(filename, index_col=0)\n",
    "    \n",
    "    ca = prince.CA(n_components=100, n_iter=100)\n",
    "    ca.fit(df)\n",
    "    \n",
    "    print('The first PC explains around {}% of variance.'.format(100*ca.eigenvalues_[0]/sum(ca.eigenvalues_)))\n",
    "    \n",
    "    pca_vals = ca.row_coordinates(df) # One can check that column PCA projs are exactly equal\n",
    "    scores = pca_vals.iloc[:,0]\n",
    "    \n",
    "    return scores"
   ]
  },
  {
   "cell_type": "code",
   "execution_count": 13,
   "id": "27282a15",
   "metadata": {},
   "outputs": [
    {
     "name": "stdout",
     "output_type": "stream",
     "text": [
      "The first PC explains around 11.32605157511833% of variance.\n"
     ]
    }
   ],
   "source": [
    "ideology_scores = corresp_analysis(filename='adj_matrix.csv')"
   ]
  },
  {
   "cell_type": "markdown",
   "id": "d83f1990",
   "metadata": {},
   "source": [
    "#### Use scores to form quantiles"
   ]
  },
  {
   "cell_type": "code",
   "execution_count": 14,
   "id": "bbb3cf81",
   "metadata": {},
   "outputs": [
    {
     "data": {
      "text/plain": [
       "124224165     0.844295\n",
       "242926427     0.920977\n",
       "234822928     1.275552\n",
       "12788332      0.888146\n",
       "52503751      1.109054\n",
       "                ...   \n",
       "325581008     0.113305\n",
       "305818748    -0.672569\n",
       "3021632183    0.216137\n",
       "16796658     -0.051347\n",
       "301628954     0.017839\n",
       "Name: 0, Length: 5800, dtype: float64"
      ]
     },
     "execution_count": 14,
     "metadata": {},
     "output_type": "execute_result"
    }
   ],
   "source": [
    "ideology_scores"
   ]
  },
  {
   "cell_type": "code",
   "execution_count": 15,
   "id": "16d1807c",
   "metadata": {},
   "outputs": [],
   "source": [
    "def create_quantiles(scores):\n",
    "    \"\"\" Function that maps a series of ideology scores into 7 quantiles.\n",
    "    \"\"\"\n",
    "    q1_val = ideology_scores.quantile(1/7)\n",
    "    q2_val = ideology_scores.quantile(2/7)\n",
    "    q3_val = ideology_scores.quantile(3/7)\n",
    "    q4_val = ideology_scores.quantile(4/7)\n",
    "    q5_val = ideology_scores.quantile(5/7)\n",
    "    q6_val = ideology_scores.quantile(6/7)\n",
    "    \n",
    "    mapping_dict = dict()\n",
    "    \n",
    "    for author_id in list(scores.index):\n",
    "        score = scores.loc[author_id]\n",
    "        quantile = 0\n",
    "        if score < q1_val:\n",
    "            quantile = 1\n",
    "        elif score < q2_val:\n",
    "            quantile = 2\n",
    "        elif score < q3_val:\n",
    "            quantile = 3\n",
    "        elif score < q4_val:\n",
    "            quantile = 4\n",
    "        elif score < q5_val:\n",
    "            quantile = 5\n",
    "        elif score < q6_val:\n",
    "            quantile = 6\n",
    "        else:\n",
    "            quantile = 7\n",
    "        \n",
    "        mapping_dict[author_id] = {'score': score, 'quantile': quantile}\n",
    "    \n",
    "    return mapping_dict"
   ]
  },
  {
   "cell_type": "code",
   "execution_count": 16,
   "id": "b2393db8",
   "metadata": {},
   "outputs": [],
   "source": [
    "score_mapping = create_quantiles(ideology_scores)"
   ]
  },
  {
   "cell_type": "code",
   "execution_count": 17,
   "id": "f12eb7c8",
   "metadata": {},
   "outputs": [],
   "source": [
    "with open('score_mappings.json', 'w') as f:\n",
    "    json.dump(score_mapping, f)"
   ]
  },
  {
   "cell_type": "markdown",
   "id": "7f6c0a5c",
   "metadata": {},
   "source": [
    "## Create PCA Graph"
   ]
  },
  {
   "cell_type": "code",
   "execution_count": 18,
   "id": "52ff174a",
   "metadata": {},
   "outputs": [],
   "source": [
    "import seaborn"
   ]
  },
  {
   "cell_type": "code",
   "execution_count": 19,
   "id": "8faa3570",
   "metadata": {},
   "outputs": [],
   "source": [
    "scores = [score_mapping[id_]['score'] for id_ in score_mapping.keys()]\n",
    "colors = [score_mapping[id_]['quantile'] for id_ in score_mapping.keys()]"
   ]
  },
  {
   "cell_type": "code",
   "execution_count": 20,
   "id": "5b51e080",
   "metadata": {},
   "outputs": [],
   "source": [
    "colors = np.array(colors)\n",
    "scores = np.array(scores)"
   ]
  },
  {
   "cell_type": "code",
   "execution_count": 21,
   "id": "68dccfea",
   "metadata": {},
   "outputs": [
    {
     "data": {
      "image/png": "[encoded data removed]",
      "text/plain": [
       "<Figure size 648x432 with 1 Axes>"
      ]
     },
     "metadata": {
      "needs_background": "light"
     },
     "output_type": "display_data"
    }
   ],
   "source": [
    "plt.figure(figsize=(9,6))\n",
    "palette_ = seaborn.color_palette('Reds')\n",
    "seaborn.histplot(scores[colors<4], binrange=(min(scores),max(scores)), bins=100, color='blue')\n",
    "seaborn.histplot(scores[colors==4], binrange=(min(scores), max(scores)), bins=100, color='gray')\n",
    "seaborn.histplot(scores[colors>4], binrange=(min(scores), max(scores)), bins=100, color='red')\n",
    "plt.legend(['Liberals', 'Neutral', 'Conversatives'])\n",
    "plt.xlabel('Ideology Score')\n",
    "plt.title('Histogram of ideology scores and their division')\n",
    "plt.savefig('histogram_ideology_scores.png', bbox_inches='tight')"
   ]
  },
  {
   "cell_type": "markdown",
   "id": "d301cb76",
   "metadata": {},
   "source": [
    "## Create Network Graph"
   ]
  },
  {
   "cell_type": "code",
   "execution_count": 22,
   "id": "0127ae09",
   "metadata": {},
   "outputs": [],
   "source": [
    "adj_df = pd.read_csv('adj_matrix.csv', index_col=0)"
   ]
  },
  {
   "cell_type": "code",
   "execution_count": 23,
   "id": "60b6bba4",
   "metadata": {},
   "outputs": [],
   "source": [
    "idxs = np.random.choice(np.arange(len(adj_df)), size=50, replace=False)"
   ]
  },
  {
   "cell_type": "code",
   "execution_count": 24,
   "id": "886825ca",
   "metadata": {},
   "outputs": [],
   "source": [
    "sample_adj_df = adj_df.iloc[idxs, idxs]"
   ]
  },
  {
   "cell_type": "code",
   "execution_count": 25,
   "id": "3ad5f884",
   "metadata": {},
   "outputs": [],
   "source": [
    "adj_graph = networkx.Graph()\n",
    "for id_ in sample_adj_df.index:\n",
    "    adj_graph.add_node(id_)"
   ]
  },
  {
   "cell_type": "code",
   "execution_count": 26,
   "id": "8824f178",
   "metadata": {},
   "outputs": [],
   "source": [
    "row_, col_ = np.where(sample_adj_df==1)\n",
    "idx_to_id = {i: sample_adj_df.index[i] for i in range(len(sample_adj_df))}"
   ]
  },
  {
   "cell_type": "code",
   "execution_count": 27,
   "id": "60ba666d",
   "metadata": {},
   "outputs": [],
   "source": [
    "for i in range(len(row_)):\n",
    "    adj_graph.add_edge(idx_to_id[row_[i]], idx_to_id[col_[i]])"
   ]
  },
  {
   "cell_type": "code",
   "execution_count": 28,
   "id": "b7d34ec3",
   "metadata": {},
   "outputs": [
    {
     "data": {
      "text/plain": [
       "<Figure size 432x288 with 0 Axes>"
      ]
     },
     "metadata": {},
     "output_type": "display_data"
    }
   ],
   "source": [
    "plt.figure(1)\n",
    "pos = networkx.spring_layout(adj_graph)"
   ]
  },
  {
   "cell_type": "code",
   "execution_count": 29,
   "id": "5b0c15cd",
   "metadata": {},
   "outputs": [],
   "source": [
    "i = 0\n",
    "for id_ in pos.keys():\n",
    "    if np.sum(pos[id_][0]**2 + pos[id_][1]**2) > 0.5:\n",
    "        i += 1\n",
    "        pos[id_] = (0,0)"
   ]
  },
  {
   "cell_type": "code",
   "execution_count": 30,
   "id": "49261c71",
   "metadata": {},
   "outputs": [],
   "source": [
    "color_mapping = {1: 'blue', 2: 'blue', 3: 'blue', 4: 'gray', 5: 'red', 6: 'red', 7: 'red'}"
   ]
  },
  {
   "cell_type": "code",
   "execution_count": 31,
   "id": "36dac3cb",
   "metadata": {},
   "outputs": [],
   "source": [
    "g_colors = [color_mapping[score_mapping[id_]['quantile']] for id_ in sample_adj_df.index]"
   ]
  },
  {
   "cell_type": "code",
   "execution_count": 32,
   "id": "069eea50",
   "metadata": {},
   "outputs": [],
   "source": [
    "lib_g = networkx.Graph()\n",
    "cons_g = networkx.Graph()\n",
    "neut_g = networkx.Graph()"
   ]
  },
  {
   "cell_type": "code",
   "execution_count": 33,
   "id": "0c769d78",
   "metadata": {},
   "outputs": [],
   "source": [
    "for node in adj_graph.nodes():\n",
    "    if color_mapping[score_mapping[node]['quantile']] == 'blue':\n",
    "        lib_g.add_node(node)\n",
    "    elif color_mapping[score_mapping[node]['quantile']] == 'red':\n",
    "        cons_g.add_node(node)\n",
    "    else:\n",
    "        neut_g.add_node(node)"
   ]
  },
  {
   "cell_type": "code",
   "execution_count": 34,
   "id": "dc390de5",
   "metadata": {},
   "outputs": [
    {
     "data": {
      "image/png": "[encoded data removed]",
      "text/plain": [
       "<Figure size 648x432 with 1 Axes>"
      ]
     },
     "metadata": {},
     "output_type": "display_data"
    }
   ],
   "source": [
    "plt.figure(figsize=(9,6))\n",
    "\n",
    "nodes = networkx.draw_networkx_nodes(lib_g, pos, nodelist=lib_g.nodes(), node_size = 100,\n",
    "                                     node_color='blue', label='Liberal')#, cmap=plt.cm.Blues)\n",
    "nodes.set_edgecolor('black')\n",
    "nodes = networkx.draw_networkx_nodes(neut_g, pos, nodelist=neut_g.nodes(), node_size = 100,\n",
    "                                     node_color='gray', label='Neutral')#, cmap=plt.cm.Blues)\n",
    "nodes.set_edgecolor('black')\n",
    "nodes = networkx.draw_networkx_nodes(cons_g, pos, nodelist=cons_g.nodes(), node_size = 100,\n",
    "                                     node_color='red', label='Conservative')#, cmap=plt.cm.Blues)\n",
    "nodes.set_edgecolor('black')\n",
    "networkx.draw_networkx_edges(adj_graph, pos, node_size=100)\n",
    "plt.title(\"Example graph (n=60 authors)\")\n",
    "plt.legend(loc='upper left')\n",
    "plt.savefig('example_graph_50.png', bbox_inches='tight')"
   ]
  }
 ],
 "metadata": {
  "@webio": {
   "lastCommId": null,
   "lastKernelId": null
  },
  "kernelspec": {
   "display_name": "Python 3 (ipykernel)",
   "language": "python",
   "name": "python3"
  },
  "language_info": {
   "codemirror_mode": {
    "name": "ipython",
    "version": 3
   },
   "file_extension": ".py",
   "mimetype": "text/x-python",
   "name": "python",
   "nbconvert_exporter": "python",
   "pygments_lexer": "ipython3",
   "version": "3.9.5"
  }
 },
 "nbformat": 4,
 "nbformat_minor": 5
}
